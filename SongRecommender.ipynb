{
 "cells": [
  {
   "cell_type": "code",
   "execution_count": 1,
   "metadata": {},
   "outputs": [],
   "source": [
    "import requests \n",
    "from bs4 import BeautifulSoup \n",
    "import pandas as pd\n",
    "import config\n",
    "import spotipy\n",
    "import numpy as np\n",
    "import json\n",
    "from spotipy.oauth2 import SpotifyClientCredentials\n",
    "import pickle\n",
    "from sklearn.preprocessing import StandardScaler\n",
    "from sklearn.cluster import KMeans\n",
    "import random\n",
    "from IPython.display import IFrame\n",
    "\n",
    "\n",
    "songTitlesFromHotList=[]\n",
    "songArtistsFromHotList=[]\n",
    "urlHotList = \"https://www.billboard.com/charts/hot-100/\""
   ]
  },
  {
   "cell_type": "code",
   "execution_count": 2,
   "metadata": {},
   "outputs": [],
   "source": [
    "def parseHtmltoFindSongTitlesAndArtists(urlHotList):\n",
    "    page = requests.get(urlHotList)\n",
    "    soup = BeautifulSoup(page.content, 'html.parser')\n",
    "    hot_list = soup.find_all(\"li\", class_=\"lrv-u-padding-l-1@mobile-max\")\n",
    "    \n",
    "    for hot_song in hot_list:\n",
    "        title = hot_song.find('h3', id=\"title-of-a-story\").get_text(strip=True).lower()\n",
    "        artist = hot_song.find('span').get_text(strip=True).lower()\n",
    "        songTitlesFromHotList.append(title)\n",
    "        songArtistsFromHotList.append(artist)"
   ]
  },
  {
   "cell_type": "code",
   "execution_count": 3,
   "metadata": {},
   "outputs": [],
   "source": [
    "def isSongInTheHotList(songName):\n",
    "    return songName in songTitlesFromHotList"
   ]
  },
  {
   "cell_type": "code",
   "execution_count": 4,
   "metadata": {},
   "outputs": [],
   "source": [
    "def authSpotify():\n",
    "    global spotifySearch\n",
    "    spotifySearch = spotipy.Spotify(auth_manager=SpotifyClientCredentials(client_id= config.client_id,\n",
    "                                                           client_secret= config.client_secret))"
   ]
  },
  {
   "cell_type": "code",
   "execution_count": 5,
   "metadata": {},
   "outputs": [],
   "source": [
    "def getTrackIdBySongName(songName):\n",
    "    result = spotifySearch.search(q=songName,limit=1)\n",
    "\n",
    "    return result[\"tracks\"][\"items\"][0][\"id\"]"
   ]
  },
  {
   "cell_type": "code",
   "execution_count": 6,
   "metadata": {},
   "outputs": [],
   "source": [
    "def convertTrackToAudioFeatureDataFrame(trackId):\n",
    "    spotiftyTrackAudioFeatures=pd.DataFrame(spotifySearch.audio_features(trackId))    \n",
    "    spotiftyTrackAudioFeatures=spotiftyTrackAudioFeatures[[\"danceability\",\"energy\",\"loudness\",\"speechiness\",\"acousticness\",\n",
    "    \"instrumentalness\",\"liveness\",\"valence\",\"tempo\",\"duration_ms\"]]\n",
    "    \n",
    "    return spotiftyTrackAudioFeatures\n",
    "    \n",
    "    "
   ]
  },
  {
   "cell_type": "code",
   "execution_count": 7,
   "metadata": {},
   "outputs": [],
   "source": [
    "def load(filename = \"filename.pickle\"): \n",
    "    try: \n",
    "        with open(filename, \"rb\") as f: \n",
    "            return pickle.load(f) \n",
    "        \n",
    "    except FileNotFoundError: \n",
    "        if filename == \"scaler.pickle\":\n",
    "            return StandardScaler()\n",
    "        else:\n",
    "            return KMeans(random_state=1234)"
   ]
  },
  {
   "cell_type": "code",
   "execution_count": 8,
   "metadata": {},
   "outputs": [],
   "source": [
    "def recommendSongFromSpotify(spotiftyTrackAudioFeatures):\n",
    "    scaler = load(\"scaler.pickle\")\n",
    "    spotiftyTrackAudioFeatures_scaled = scaler.transform(spotiftyTrackAudioFeatures)\n",
    "    spotiftyTrackAudioFeatures_scaled_df = pd.DataFrame(spotiftyTrackAudioFeatures_scaled, columns = spotiftyTrackAudioFeatures.columns)\n",
    "    kmeans = load(\"kmeans.pickle\")\n",
    "    predictedClusterList = kmeans.predict(spotiftyTrackAudioFeatures_scaled_df)\n",
    "    \n",
    "    clusteredSpotiftySongAuidoFeatures = pd.read_csv(\"ClusteredAudioFeaturesFromSpotify.csv\")\n",
    "\n",
    "    clusters = np.unique(predictedClusterList)\n",
    "    \n",
    "    filteredClusteredSpotiftySongAuidoFeatures = clusteredSpotiftySongAuidoFeatures[clusteredSpotiftySongAuidoFeatures['cluster'].isin(clusters)]\n",
    "    \n",
    "    selectedTrack = filteredClusteredSpotiftySongAuidoFeatures.sample()\n",
    "    \n",
    "    track = spotifySearch.track(selectedTrack.iloc[0]['id'])\n",
    "    \n",
    "    return track\n",
    "\n",
    "    \n",
    "    "
   ]
  },
  {
   "cell_type": "code",
   "execution_count": 9,
   "metadata": {},
   "outputs": [
    {
     "name": "stdout",
     "output_type": "stream",
     "text": [
      "Please enter a song name to search\n",
      "easy on me\n",
      "Recommended song for you:Rollin' On by Jackie Venson\n"
     ]
    },
    {
     "data": {
      "text/html": [
       "\n",
       "        <iframe\n",
       "            width=\"320\"\n",
       "            height=\"80\"\n",
       "            src=\"https://open.spotify.com/embed/track/6ol3k9BqQi7tOX98KPnVPa?frameborder=0&allowtransparency=true&allow=encrypted-media\"\n",
       "            frameborder=\"0\"\n",
       "            allowfullscreen\n",
       "            \n",
       "        ></iframe>\n",
       "        "
      ],
      "text/plain": [
       "<IPython.lib.display.IFrame at 0x7fc491a19d90>"
      ]
     },
     "metadata": {},
     "output_type": "display_data"
    }
   ],
   "source": [
    "songName = input('Please enter a song name to search\\n')\n",
    "songName = songName.strip().lower()\n",
    "\n",
    "parseHtmltoFindSongTitlesAndArtists(urlHotList)\n",
    "\n",
    "if isSongInTheHotList(songName):\n",
    "    print(\"Recommended song for you: \"+ random.choice(songTitlesFromHotList))\n",
    "else:\n",
    "    authSpotify()\n",
    "    trackId = getTrackIdBySongName(songName)\n",
    "    spotiftyTrackAudioFeatures = convertTrackToAudioFeatureDataFrame(trackId)\n",
    "    track = recommendSongFromSpotify(spotiftyTrackAudioFeatures)\n",
    "    \n",
    "    print('Recommended song for you:' + track[\"name\"]\n",
    "              + ' by ' + track[\"album\"][\"artists\"][0][\"name\"])\n",
    "    \n",
    "    display(IFrame(src=\"https://open.spotify.com/embed/track/\"+track[\"id\"],\n",
    "                       width=\"320\", height=\"80\",frameborder=\"0\",\n",
    "                       allowtransparency=\"true\",allow=\"encrypted-media\",))    \n",
    "        "
   ]
  },
  {
   "cell_type": "code",
   "execution_count": null,
   "metadata": {},
   "outputs": [],
   "source": []
  },
  {
   "cell_type": "code",
   "execution_count": null,
   "metadata": {},
   "outputs": [],
   "source": []
  }
 ],
 "metadata": {
  "kernelspec": {
   "display_name": "Python 3 (ipykernel)",
   "language": "python",
   "name": "python3"
  },
  "language_info": {
   "codemirror_mode": {
    "name": "ipython",
    "version": 3
   },
   "file_extension": ".py",
   "mimetype": "text/x-python",
   "name": "python",
   "nbconvert_exporter": "python",
   "pygments_lexer": "ipython3",
   "version": "3.9.13"
  },
  "toc": {
   "base_numbering": 1,
   "nav_menu": {},
   "number_sections": true,
   "sideBar": true,
   "skip_h1_title": false,
   "title_cell": "Table of Contents",
   "title_sidebar": "Contents",
   "toc_cell": false,
   "toc_position": {},
   "toc_section_display": true,
   "toc_window_display": false
  },
  "varInspector": {
   "cols": {
    "lenName": 16,
    "lenType": 16,
    "lenVar": 40
   },
   "kernels_config": {
    "python": {
     "delete_cmd_postfix": "",
     "delete_cmd_prefix": "del ",
     "library": "var_list.py",
     "varRefreshCmd": "print(var_dic_list())"
    },
    "r": {
     "delete_cmd_postfix": ") ",
     "delete_cmd_prefix": "rm(",
     "library": "var_list.r",
     "varRefreshCmd": "cat(var_dic_list()) "
    }
   },
   "types_to_exclude": [
    "module",
    "function",
    "builtin_function_or_method",
    "instance",
    "_Feature"
   ],
   "window_display": false
  }
 },
 "nbformat": 4,
 "nbformat_minor": 4
}
