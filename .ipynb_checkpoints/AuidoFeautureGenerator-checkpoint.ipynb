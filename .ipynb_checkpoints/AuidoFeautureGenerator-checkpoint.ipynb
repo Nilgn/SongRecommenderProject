{
 "cells": [
  {
   "cell_type": "code",
   "execution_count": 1,
   "id": "d9dc1d07",
   "metadata": {},
   "outputs": [],
   "source": [
    "import config\n",
    "import spotipy\n",
    "import pandas as pd\n",
    "import json\n",
    "from spotipy.oauth2 import SpotifyClientCredentials\n",
    "import pandas as pd\n",
    "\n",
    "trackList = []"
   ]
  },
  {
   "cell_type": "code",
   "execution_count": 2,
   "id": "44b585cd",
   "metadata": {},
   "outputs": [],
   "source": [
    "spotifyPlayLists = [\"1PIy8ktH4S4BwZx9JAB5zN\", \"37i9dQZF1DWZJhOVGWqUKF\", \"2UZk7JjJnbTut1w8fqs3JL\", \"37i9dQZF1DX8AliSIsGeKd\",\n",
    "                   \"37i9dQZF1DWTvNyxOwkztu\", \"37i9dQZF1DX0SM0LYsmbMT\", \"37i9dQZF1DWYmmr74INQlb\", \"37i9dQZF1DWWEJlAGA9gs0\",\n",
    "                   \"37i9dQZF1DWUS3jbm4YExP\", \"37i9dQZF1DXb3MZdETGqKB\", \"37i9dQZEVXbNG2KDcFcKOF\", \"37i9dQZF1DX9EM98aZosoy\",\n",
    "                   \"37i9dQZF1DX7fE85waV8CI\", \"37i9dQZF1DX10zKzsJ2jva\", \"37i9dQZF1DX6KItbiYYmAv\", \"37i9dQZF1DX64Y3du11rR1\"\n",
    "                  ]"
   ]
  },
  {
   "cell_type": "code",
   "execution_count": 3,
   "id": "57e819a3",
   "metadata": {},
   "outputs": [],
   "source": [
    "def authSpotify():\n",
    "    global spotifySearch\n",
    "    spotifySearch = spotipy.Spotify(auth_manager=SpotifyClientCredentials(client_id= config.client_id,\n",
    "                                                           client_secret= config.client_secret))"
   ]
  },
  {
   "cell_type": "code",
   "execution_count": 4,
   "id": "d22f72b2",
   "metadata": {},
   "outputs": [],
   "source": [
    "def getTracksOfList(playlistId):\n",
    "    spotifyTracks = spotifySearch.user_playlist_tracks(\"spotify\",playlistId)\n",
    "    tracks = spotifyTracks['items']\n",
    "    while spotifyTracks['next']:\n",
    "        spotifyTracks = spotifySearch.next(spotifyTracks)\n",
    "        tracks.extend(spotifyTracks['items'])\n",
    "    return tracks  "
   ]
  },
  {
   "cell_type": "code",
   "execution_count": 5,
   "id": "d02052dc",
   "metadata": {},
   "outputs": [],
   "source": [
    "def convertTracksToAuidoFeatureDataFrame(trackList):\n",
    "    list_of_songs_audio_features = []\n",
    "       \n",
    "    \n",
    "    for track in trackList:\n",
    "        list_of_songs_audio_features.append(spotifySearch.audio_features(track[\"track\"][\"id\"])[0])\n",
    "\n",
    "        spotiftySongAuidoFeatures=pd.DataFrame(list_of_songs_audio_features)    \n",
    "        spotiftySongAuidoFeatures=spotiftySongAuidoFeatures[[\"id\",\"danceability\",\"energy\",\"loudness\",\"speechiness\",\"acousticness\",\n",
    "        \"instrumentalness\",\"liveness\",\"valence\",\"tempo\",\"duration_ms\"]]\n",
    "    \n",
    "    return spotiftySongAuidoFeatures\n"
   ]
  },
  {
   "cell_type": "code",
   "execution_count": 6,
   "id": "d43f9007",
   "metadata": {},
   "outputs": [],
   "source": [
    "authSpotify()\n",
    "\n",
    "for playlist in spotifyPlayLists:\n",
    "    trackList.extend(getTracksOfList(playlist))\n",
    "\n",
    "spotiftySongAuidoFeatures = convertTracksToAuidoFeatureDataFrame(trackList)\n",
    "\n",
    "spotiftySongAuidoFeatures.to_csv(\"AudioFeaturesFromSpotify.csv\", index=False)"
   ]
  }
 ],
 "metadata": {
  "kernelspec": {
   "display_name": "Python 3 (ipykernel)",
   "language": "python",
   "name": "python3"
  },
  "language_info": {
   "codemirror_mode": {
    "name": "ipython",
    "version": 3
   },
   "file_extension": ".py",
   "mimetype": "text/x-python",
   "name": "python",
   "nbconvert_exporter": "python",
   "pygments_lexer": "ipython3",
   "version": "3.9.13"
  }
 },
 "nbformat": 4,
 "nbformat_minor": 5
}
