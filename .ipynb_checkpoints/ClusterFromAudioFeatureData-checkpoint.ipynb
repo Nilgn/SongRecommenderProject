{
 "cells": [
  {
   "cell_type": "code",
   "execution_count": 1,
   "id": "b51fa2df",
   "metadata": {},
   "outputs": [],
   "source": [
    "import pickle\n",
    "from sklearn.preprocessing import StandardScaler\n",
    "from sklearn.cluster import KMeans\n",
    "import pandas as pd\n",
    "import numpy as np"
   ]
  },
  {
   "cell_type": "code",
   "execution_count": 2,
   "id": "c01d6ff1",
   "metadata": {},
   "outputs": [],
   "source": [
    "spotiftySongAuidoFeatures = pd.read_csv(\"AudioFeaturesFromSpotify.csv\")"
   ]
  },
  {
   "cell_type": "code",
   "execution_count": 3,
   "id": "36755ff3",
   "metadata": {},
   "outputs": [],
   "source": [
    "def load(filename = \"filename.pickle\"): \n",
    "    try: \n",
    "        with open(filename, \"rb\") as f: \n",
    "            return pickle.load(f) \n",
    "        \n",
    "    except FileNotFoundError: \n",
    "        if filename == \"scaler.pickle\":\n",
    "            return StandardScaler()\n",
    "        else:\n",
    "            return KMeans(random_state=1234)"
   ]
  },
  {
   "cell_type": "code",
   "execution_count": 4,
   "id": "90151a9f",
   "metadata": {},
   "outputs": [],
   "source": [
    "def saveScaler(scaler): \n",
    "    with open(\"scaler.pickle\", \"wb\") as f:\n",
    "        pickle.dump(scaler,f)"
   ]
  },
  {
   "cell_type": "code",
   "execution_count": 5,
   "id": "54cdb566",
   "metadata": {},
   "outputs": [],
   "source": [
    "def saveKmeans(kmeans): \n",
    "    with open(\"kmeans.pickle\", \"wb\") as f:\n",
    "        pickle.dump(kmeans,f)"
   ]
  },
  {
   "cell_type": "code",
   "execution_count": 6,
   "id": "5e7fe65c",
   "metadata": {},
   "outputs": [],
   "source": [
    "def clusterSong():\n",
    "    filteredSpotiftySongAuidoFeatures = spotiftySongAuidoFeatures[spotiftySongAuidoFeatures.select_dtypes(include=np.number).columns]\n",
    "    \n",
    "    scaler = load(\"scaler.pickle\")\n",
    "    scaler.fit(filteredSpotiftySongAuidoFeatures)\n",
    "    filteredSpotiftySongAuidoFeatures_scaled = scaler.transform(filteredSpotiftySongAuidoFeatures)\n",
    "    filteredSpotiftySongAuidoFeatures_scaled_df = pd.DataFrame(filteredSpotiftySongAuidoFeatures_scaled, columns = filteredSpotiftySongAuidoFeatures.columns)\n",
    "    \n",
    "    kmeans = load(\"kmeans.pickle\")\n",
    "    kmeans.fit(filteredSpotiftySongAuidoFeatures_scaled_df)\n",
    "    \n",
    "    spotiftySongAuidoFeatures[\"cluster\"] = kmeans.predict(filteredSpotiftySongAuidoFeatures_scaled_df)\n",
    "    \n",
    "    saveScaler(scaler)\n",
    "    saveKmeans(kmeans)\n",
    "    \n",
    "    return spotiftySongAuidoFeatures\n",
    "    \n",
    "    "
   ]
  },
  {
   "cell_type": "code",
   "execution_count": 7,
   "id": "748bfa86",
   "metadata": {},
   "outputs": [],
   "source": [
    "clusteredSpotiftySongAuidoFeatures = clusterSong()\n",
    "clusteredSpotiftySongAuidoFeatures.to_csv(\"ClusteredAudioFeaturesFromSpotify.csv\", index=False)"
   ]
  }
 ],
 "metadata": {
  "kernelspec": {
   "display_name": "Python 3 (ipykernel)",
   "language": "python",
   "name": "python3"
  },
  "language_info": {
   "codemirror_mode": {
    "name": "ipython",
    "version": 3
   },
   "file_extension": ".py",
   "mimetype": "text/x-python",
   "name": "python",
   "nbconvert_exporter": "python",
   "pygments_lexer": "ipython3",
   "version": "3.9.13"
  }
 },
 "nbformat": 4,
 "nbformat_minor": 5
}
